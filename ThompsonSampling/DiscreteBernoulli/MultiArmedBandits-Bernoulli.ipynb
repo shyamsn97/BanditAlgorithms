{
 "cells": [
  {
   "cell_type": "markdown",
   "metadata": {},
   "source": [
    "# Multi-Armed Bandits with Thompson Sampling"
   ]
  },
  {
   "cell_type": "code",
   "execution_count": 2,
   "metadata": {},
   "outputs": [
    {
     "name": "stderr",
     "output_type": "stream",
     "text": [
      "/Users/shyam/anaconda3/envs/py36/lib/python3.6/importlib/_bootstrap.py:219: RuntimeWarning: numpy.dtype size changed, may indicate binary incompatibility. Expected 96, got 88\n",
      "  return f(*args, **kwds)\n"
     ]
    }
   ],
   "source": [
    "import numpy as np\n",
    "import matplotlib.pyplot as plt\n",
    "import pandas as pd\n",
    "from tqdm import tqdm\n",
    "from scipy.stats import beta\n",
    "# from astroML.plotting import setup_text_plots\n",
    "# setup_text_plots(fontsize=8, usetex=True)"
   ]
  },
  {
   "cell_type": "markdown",
   "metadata": {},
   "source": [
    "# Google Play Store data from Kaggle : https://www.kaggle.com/lava18/google-play-store-apps#googleplaystore_user_reviews.csv\n",
    "## For our purposes, we'll only use the App column and the Sentiment Column to figure out which app is associated with the most positive sentiment"
   ]
  },
  {
   "cell_type": "code",
   "execution_count": 3,
   "metadata": {},
   "outputs": [
    {
     "data": {
      "text/html": [
       "<div>\n",
       "<style scoped>\n",
       "    .dataframe tbody tr th:only-of-type {\n",
       "        vertical-align: middle;\n",
       "    }\n",
       "\n",
       "    .dataframe tbody tr th {\n",
       "        vertical-align: top;\n",
       "    }\n",
       "\n",
       "    .dataframe thead th {\n",
       "        text-align: right;\n",
       "    }\n",
       "</style>\n",
       "<table border=\"1\" class=\"dataframe\">\n",
       "  <thead>\n",
       "    <tr style=\"text-align: right;\">\n",
       "      <th></th>\n",
       "      <th>App</th>\n",
       "      <th>Sentiment</th>\n",
       "    </tr>\n",
       "  </thead>\n",
       "  <tbody>\n",
       "    <tr>\n",
       "      <th>0</th>\n",
       "      <td>10 Best Foods for You</td>\n",
       "      <td>Positive</td>\n",
       "    </tr>\n",
       "    <tr>\n",
       "      <th>1</th>\n",
       "      <td>10 Best Foods for You</td>\n",
       "      <td>Positive</td>\n",
       "    </tr>\n",
       "    <tr>\n",
       "      <th>3</th>\n",
       "      <td>10 Best Foods for You</td>\n",
       "      <td>Positive</td>\n",
       "    </tr>\n",
       "    <tr>\n",
       "      <th>4</th>\n",
       "      <td>10 Best Foods for You</td>\n",
       "      <td>Positive</td>\n",
       "    </tr>\n",
       "    <tr>\n",
       "      <th>5</th>\n",
       "      <td>10 Best Foods for You</td>\n",
       "      <td>Positive</td>\n",
       "    </tr>\n",
       "    <tr>\n",
       "      <th>6</th>\n",
       "      <td>10 Best Foods for You</td>\n",
       "      <td>Positive</td>\n",
       "    </tr>\n",
       "    <tr>\n",
       "      <th>8</th>\n",
       "      <td>10 Best Foods for You</td>\n",
       "      <td>Neutral</td>\n",
       "    </tr>\n",
       "    <tr>\n",
       "      <th>9</th>\n",
       "      <td>10 Best Foods for You</td>\n",
       "      <td>Neutral</td>\n",
       "    </tr>\n",
       "    <tr>\n",
       "      <th>10</th>\n",
       "      <td>10 Best Foods for You</td>\n",
       "      <td>Positive</td>\n",
       "    </tr>\n",
       "    <tr>\n",
       "      <th>11</th>\n",
       "      <td>10 Best Foods for You</td>\n",
       "      <td>Positive</td>\n",
       "    </tr>\n",
       "  </tbody>\n",
       "</table>\n",
       "</div>"
      ],
      "text/plain": [
       "                      App Sentiment\n",
       "0   10 Best Foods for You  Positive\n",
       "1   10 Best Foods for You  Positive\n",
       "3   10 Best Foods for You  Positive\n",
       "4   10 Best Foods for You  Positive\n",
       "5   10 Best Foods for You  Positive\n",
       "6   10 Best Foods for You  Positive\n",
       "8   10 Best Foods for You   Neutral\n",
       "9   10 Best Foods for You   Neutral\n",
       "10  10 Best Foods for You  Positive\n",
       "11  10 Best Foods for You  Positive"
      ]
     },
     "execution_count": 3,
     "metadata": {},
     "output_type": "execute_result"
    }
   ],
   "source": [
    "train_data = pd.read_csv(\"../../data/googleplaystore_user_reviews.csv\")\n",
    "train_data = train_data.drop(columns=[\"Translated_Review\",\"Sentiment_Polarity\",\"Sentiment_Subjectivity\"])\n",
    "train_data = train_data.dropna()\n",
    "train_data.head(10)"
   ]
  },
  {
   "cell_type": "markdown",
   "metadata": {},
   "source": [
    "#### There are 1074 unique apps"
   ]
  },
  {
   "cell_type": "code",
   "execution_count": 3,
   "metadata": {},
   "outputs": [],
   "source": [
    "apps = train_data[\"App\"]"
   ]
  },
  {
   "cell_type": "code",
   "execution_count": 4,
   "metadata": {},
   "outputs": [],
   "source": [
    "train_data[\"App\"] = pd.factorize(apps)[0]"
   ]
  },
  {
   "cell_type": "code",
   "execution_count": 5,
   "metadata": {},
   "outputs": [
    {
     "data": {
      "text/html": [
       "<div>\n",
       "<style scoped>\n",
       "    .dataframe tbody tr th:only-of-type {\n",
       "        vertical-align: middle;\n",
       "    }\n",
       "\n",
       "    .dataframe tbody tr th {\n",
       "        vertical-align: top;\n",
       "    }\n",
       "\n",
       "    .dataframe thead th {\n",
       "        text-align: right;\n",
       "    }\n",
       "</style>\n",
       "<table border=\"1\" class=\"dataframe\">\n",
       "  <thead>\n",
       "    <tr style=\"text-align: right;\">\n",
       "      <th></th>\n",
       "      <th>App</th>\n",
       "      <th>Sentiment</th>\n",
       "    </tr>\n",
       "  </thead>\n",
       "  <tbody>\n",
       "    <tr>\n",
       "      <th>0</th>\n",
       "      <td>0</td>\n",
       "      <td>Positive</td>\n",
       "    </tr>\n",
       "    <tr>\n",
       "      <th>1</th>\n",
       "      <td>0</td>\n",
       "      <td>Positive</td>\n",
       "    </tr>\n",
       "    <tr>\n",
       "      <th>3</th>\n",
       "      <td>0</td>\n",
       "      <td>Positive</td>\n",
       "    </tr>\n",
       "    <tr>\n",
       "      <th>4</th>\n",
       "      <td>0</td>\n",
       "      <td>Positive</td>\n",
       "    </tr>\n",
       "    <tr>\n",
       "      <th>5</th>\n",
       "      <td>0</td>\n",
       "      <td>Positive</td>\n",
       "    </tr>\n",
       "    <tr>\n",
       "      <th>6</th>\n",
       "      <td>0</td>\n",
       "      <td>Positive</td>\n",
       "    </tr>\n",
       "    <tr>\n",
       "      <th>8</th>\n",
       "      <td>0</td>\n",
       "      <td>Neutral</td>\n",
       "    </tr>\n",
       "    <tr>\n",
       "      <th>9</th>\n",
       "      <td>0</td>\n",
       "      <td>Neutral</td>\n",
       "    </tr>\n",
       "    <tr>\n",
       "      <th>10</th>\n",
       "      <td>0</td>\n",
       "      <td>Positive</td>\n",
       "    </tr>\n",
       "    <tr>\n",
       "      <th>11</th>\n",
       "      <td>0</td>\n",
       "      <td>Positive</td>\n",
       "    </tr>\n",
       "  </tbody>\n",
       "</table>\n",
       "</div>"
      ],
      "text/plain": [
       "    App Sentiment\n",
       "0     0  Positive\n",
       "1     0  Positive\n",
       "3     0  Positive\n",
       "4     0  Positive\n",
       "5     0  Positive\n",
       "6     0  Positive\n",
       "8     0   Neutral\n",
       "9     0   Neutral\n",
       "10    0  Positive\n",
       "11    0  Positive"
      ]
     },
     "execution_count": 5,
     "metadata": {},
     "output_type": "execute_result"
    }
   ],
   "source": [
    "train_data.head(10)"
   ]
  },
  {
   "cell_type": "markdown",
   "metadata": {},
   "source": [
    "#### We can see here that there are 3 unique Sentiment values. To make the likelihood distribution Bernoulli, we'll treat Neutral values as Negative. "
   ]
  },
  {
   "cell_type": "code",
   "execution_count": 6,
   "metadata": {},
   "outputs": [
    {
     "data": {
      "text/html": [
       "<div>\n",
       "<style scoped>\n",
       "    .dataframe tbody tr th:only-of-type {\n",
       "        vertical-align: middle;\n",
       "    }\n",
       "\n",
       "    .dataframe tbody tr th {\n",
       "        vertical-align: top;\n",
       "    }\n",
       "\n",
       "    .dataframe thead th {\n",
       "        text-align: right;\n",
       "    }\n",
       "</style>\n",
       "<table border=\"1\" class=\"dataframe\">\n",
       "  <thead>\n",
       "    <tr style=\"text-align: right;\">\n",
       "      <th></th>\n",
       "      <th>App</th>\n",
       "      <th>Sentiment</th>\n",
       "    </tr>\n",
       "  </thead>\n",
       "  <tbody>\n",
       "    <tr>\n",
       "      <th>0</th>\n",
       "      <td>0</td>\n",
       "      <td>1</td>\n",
       "    </tr>\n",
       "    <tr>\n",
       "      <th>1</th>\n",
       "      <td>0</td>\n",
       "      <td>1</td>\n",
       "    </tr>\n",
       "    <tr>\n",
       "      <th>3</th>\n",
       "      <td>0</td>\n",
       "      <td>1</td>\n",
       "    </tr>\n",
       "    <tr>\n",
       "      <th>4</th>\n",
       "      <td>0</td>\n",
       "      <td>1</td>\n",
       "    </tr>\n",
       "    <tr>\n",
       "      <th>5</th>\n",
       "      <td>0</td>\n",
       "      <td>1</td>\n",
       "    </tr>\n",
       "    <tr>\n",
       "      <th>6</th>\n",
       "      <td>0</td>\n",
       "      <td>1</td>\n",
       "    </tr>\n",
       "    <tr>\n",
       "      <th>8</th>\n",
       "      <td>0</td>\n",
       "      <td>0</td>\n",
       "    </tr>\n",
       "    <tr>\n",
       "      <th>9</th>\n",
       "      <td>0</td>\n",
       "      <td>0</td>\n",
       "    </tr>\n",
       "    <tr>\n",
       "      <th>10</th>\n",
       "      <td>0</td>\n",
       "      <td>1</td>\n",
       "    </tr>\n",
       "    <tr>\n",
       "      <th>11</th>\n",
       "      <td>0</td>\n",
       "      <td>1</td>\n",
       "    </tr>\n",
       "  </tbody>\n",
       "</table>\n",
       "</div>"
      ],
      "text/plain": [
       "    App  Sentiment\n",
       "0     0          1\n",
       "1     0          1\n",
       "3     0          1\n",
       "4     0          1\n",
       "5     0          1\n",
       "6     0          1\n",
       "8     0          0\n",
       "9     0          0\n",
       "10    0          1\n",
       "11    0          1"
      ]
     },
     "execution_count": 6,
     "metadata": {},
     "output_type": "execute_result"
    }
   ],
   "source": [
    "train_data[\"Sentiment\"] = np.where(train_data[\"Sentiment\"] == \"Positive\",1,0)\n",
    "train_data.head(10)"
   ]
  },
  {
   "cell_type": "code",
   "execution_count": 7,
   "metadata": {},
   "outputs": [],
   "source": [
    "train = np.array(train_data)"
   ]
  },
  {
   "cell_type": "markdown",
   "metadata": {},
   "source": [
    "### Arm Class"
   ]
  },
  {
   "cell_type": "code",
   "execution_count": 8,
   "metadata": {},
   "outputs": [],
   "source": [
    "class Arm():\n",
    "    \"\"\"\n",
    "        Arm class that is used to sample from a beta prior\n",
    "        Parameters:\n",
    "            prior: a & b params for beta distribution\n",
    "            trials: success and failure trials\n",
    "    \"\"\"\n",
    "    def __init__(self):\n",
    "        self.prior = np.ones(2) #start with uniform prior\n",
    "        self.trials = np.zeros(2) #success, failure\n",
    "        \n",
    "    def moments(self):\n",
    "        expectation = self.prior[0] / (self.prior[0] + self.prior[1])\n",
    "        variance = (self.prior[0]*self.prior[1]) / (((self.prior[0] + self.prior[1])**2)*(np.sum(self.prior) - 1))\n",
    "        return expectation, variance\n",
    "    \n",
    "    def update(self,response): #update prior\n",
    "        arr = np.zeros(2)\n",
    "        arr[1-response] = 1\n",
    "        self.trials[1-response] += 1\n",
    "        self.prior += arr\n",
    "    \n",
    "    def generate_sample_prior(self):\n",
    "        return np.random.beta(self.prior[0],self.prior[1]) #sample"
   ]
  },
  {
   "cell_type": "markdown",
   "metadata": {},
   "source": [
    "### BernoulliMultiArmedBandit Class"
   ]
  },
  {
   "cell_type": "code",
   "execution_count": 9,
   "metadata": {},
   "outputs": [
    {
     "data": {
      "text/plain": [
       "5"
      ]
     },
     "execution_count": 9,
     "metadata": {},
     "output_type": "execute_result"
    }
   ],
   "source": [
    "#np.random.choice(10)"
   ]
  },
  {
   "cell_type": "code",
   "execution_count": 10,
   "metadata": {},
   "outputs": [],
   "source": [
    "class BernoulliMultiArmedBandit():\n",
    "    \"\"\"\n",
    "        Main Bernoulli Multi Armed Bandit class\n",
    "        Uses Thompson sampling to greedily choose arms by picking the one with the highest sampled prior.\n",
    "        Epsilon Greedy strategy is also added for exploration\n",
    "        Parameters:\n",
    "            data: two columns, 1st is bandit ids, 2nd is binary denoting success\n",
    "            epsilon: exploration value\n",
    "            decay: exploration decay\n",
    "            num_arms: number of arms\n",
    "            indices: indices for each arm\n",
    "            sampled_priors: sampled priors for each arm\n",
    "            arms: Arm() objects\n",
    "            final_values: final values\n",
    "    \"\"\"\n",
    "    def __init__(self,data,num_arms,epsilon=0.9,decay=0.95):\n",
    "        self.epsilon = epsilon\n",
    "        self.decay = decay\n",
    "        self.data = data\n",
    "        self.num_arms = num_arms\n",
    "        self.indices = self.generate_indices()\n",
    "        self.sampled_priors = np.zeros(self.num_arms)\n",
    "        self.arms = [Arm() for i in range(num_arms)]\n",
    "        self.final_values = {}\n",
    "    \n",
    "    def reset(self):\n",
    "        self.sampled_priors = np.zeros(self.num_arms)\n",
    "        self.arms = [Arm() for i in range(self.num_arms)]\n",
    "        self.final_values = {}\n",
    "    \n",
    "    def generate_indices(self):\n",
    "        indices = {}\n",
    "        for i in range(self.num_arms):\n",
    "            indices[i] = np.where(self.data[:,0] == i)[0]\n",
    "        return indices\n",
    "    \n",
    "    def return_final_values(self):\n",
    "        for i in range(self.num_arms):\n",
    "            arm = self.arms[i]\n",
    "            prior = arm.prior\n",
    "            expectation, variance = arm.moments()\n",
    "            vals = [prior[0],prior[1],expectation,variance]\n",
    "            self.final_values[i] = vals\n",
    "        \n",
    "    def act(self):\n",
    "        if np.random.rand() < self.epsilon:\n",
    "            self.epsilon *= self.decay\n",
    "            arm_index = np.random.choice(self.num_arms)\n",
    "        else:\n",
    "            for i in range(self.num_arms):\n",
    "                arm = self.arms[i]\n",
    "                self.sampled_priors[i] = arm.generate_sample_prior()\n",
    "            arm_index = np.argmax(self.sampled_priors)\n",
    "        arm = self.arms[arm_index]\n",
    "        response = self.data[np.random.choice(self.indices[arm_index])][-1]\n",
    "        arm.update(response)\n",
    "        \n",
    "    def train(self,iterations=1000):\n",
    "        self.reset()\n",
    "        bar = tqdm(np.arange(iterations))\n",
    "        for i in bar:\n",
    "            self.act()\n",
    "            bar.set_description(\"Epsilon: %s\" % str(self.epsilon))\n",
    "        self.return_final_values()"
   ]
  },
  {
   "cell_type": "code",
   "execution_count": 11,
   "metadata": {},
   "outputs": [],
   "source": [
    "bma = BernoulliMultiArmedBandit(train,train[-1][0])"
   ]
  },
  {
   "cell_type": "code",
   "execution_count": 12,
   "metadata": {},
   "outputs": [
    {
     "name": "stderr",
     "output_type": "stream",
     "text": [
      "Epsilon: 0.00015471477969685924: 100%|██████████| 100000/100000 [11:53<00:00, 140.09it/s]\n"
     ]
    }
   ],
   "source": [
    "bma.train(100000)"
   ]
  },
  {
   "cell_type": "code",
   "execution_count": 13,
   "metadata": {},
   "outputs": [],
   "source": [
    "result_data_frame = pd.DataFrame.from_dict(bma.final_values,\n",
    "                                           orient='index',columns=[\"a\",\"b\",\"expected_value\",\"variance\"])"
   ]
  },
  {
   "cell_type": "code",
   "execution_count": 14,
   "metadata": {},
   "outputs": [],
   "source": [
    "first_2 = list(np.argsort(result_data_frame[\"expected_value\"])[::-1][:2])\n",
    "last_3 = list(np.argsort(result_data_frame[\"expected_value\"])[:3])"
   ]
  },
  {
   "cell_type": "code",
   "execution_count": 15,
   "metadata": {},
   "outputs": [],
   "source": [
    "first_2.extend(last_3)"
   ]
  },
  {
   "cell_type": "code",
   "execution_count": 21,
   "metadata": {},
   "outputs": [
    {
     "data": {
      "text/plain": [
       "[486, 264, 309, 611, 161]"
      ]
     },
     "execution_count": 21,
     "metadata": {},
     "output_type": "execute_result"
    }
   ],
   "source": [
    "first_2"
   ]
  },
  {
   "cell_type": "code",
   "execution_count": 16,
   "metadata": {},
   "outputs": [],
   "source": [
    "final_data = np.array(result_data_frame)"
   ]
  },
  {
   "cell_type": "code",
   "execution_count": 17,
   "metadata": {},
   "outputs": [
    {
     "data": {
      "text/plain": [
       "array([[1.5944e+04, 1.0000e+00],\n",
       "       [1.3484e+04, 1.0000e+00],\n",
       "       [1.0000e+00, 3.0000e+00],\n",
       "       [1.0000e+00, 3.0000e+00],\n",
       "       [1.0000e+00, 3.0000e+00]])"
      ]
     },
     "execution_count": 17,
     "metadata": {},
     "output_type": "execute_result"
    }
   ],
   "source": [
    "data = final_data[first_2][:,:2]\n",
    "data"
   ]
  },
  {
   "cell_type": "code",
   "execution_count": 18,
   "metadata": {},
   "outputs": [
    {
     "data": {
      "text/plain": [
       "array([1.5944e+04, 1.3484e+04, 1.0000e+00, 1.0000e+00, 1.0000e+00])"
      ]
     },
     "execution_count": 18,
     "metadata": {},
     "output_type": "execute_result"
    }
   ],
   "source": [
    "data[:,0]"
   ]
  },
  {
   "cell_type": "code",
   "execution_count": 19,
   "metadata": {},
   "outputs": [],
   "source": [
    "def plot_prior():\n",
    "    alpha_values = data[:,0]\n",
    "    beta_values = data[:,1]\n",
    "    linestyles = ['-', '--', ':', '-.']\n",
    "    x = np.linspace(0, 1, 1002)[1:-1]\n",
    "\n",
    "    #------------------------------------------------------------\n",
    "    # plot the distributions\n",
    "    fig, ax = plt.subplots(figsize=(5, 3.75))\n",
    "\n",
    "    for a, b, ls in zip(alpha_values, beta_values, linestyles):\n",
    "        dist = beta(a, b)\n",
    "\n",
    "        plt.plot(x, dist.pdf(x), ls=ls, c='black',\n",
    "                 label='alpha=%.1f, beta=%.1f' % (a, b))\n",
    "\n",
    "    plt.xlim(0, 1)\n",
    "    plt.ylim(0, 3)\n",
    "\n",
    "    plt.xlabel('x')\n",
    "    plt.ylabel('p(x|alpha,beta)')\n",
    "    plt.title('Beta Distribution')\n",
    "\n",
    "    plt.legend(loc=0)\n",
    "    plt.show()"
   ]
  },
  {
   "cell_type": "code",
   "execution_count": 20,
   "metadata": {},
   "outputs": [
    {
     "data": {
      "image/png": "[encoded data removed]",
      "text/plain": [
       "<Figure size 360x270 with 1 Axes>"
      ]
     },
     "metadata": {},
     "output_type": "display_data"
    }
   ],
   "source": [
    "plot_prior()"
   ]
  }
 ],
 "metadata": {
  "kernelspec": {
   "display_name": "Python [conda env:py36]",
   "language": "python",
   "name": "conda-env-py36-py"
  },
  "language_info": {
   "codemirror_mode": {
    "name": "ipython",
    "version": 3
   },
   "file_extension": ".py",
   "mimetype": "text/x-python",
   "name": "python",
   "nbconvert_exporter": "python",
   "pygments_lexer": "ipython3",
   "version": "3.6.6"
  }
 },
 "nbformat": 4,
 "nbformat_minor": 2
}
